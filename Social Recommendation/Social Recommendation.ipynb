{
 "cells": [
  {
   "cell_type": "markdown",
   "metadata": {},
   "source": [
    "# Recommendation Sociale"
   ]
  },
  {
   "cell_type": "code",
   "execution_count": 1,
   "metadata": {
    "collapsed": false
   },
   "outputs": [],
   "source": [
    "%matplotlib inline\n",
    "import matplotlib.pyplot as plt\n",
    "import numpy as np"
   ]
  },
  {
   "cell_type": "markdown",
   "metadata": {},
   "source": [
    "# Chargement de données MovieLens"
   ]
  },
  {
   "cell_type": "code",
   "execution_count": 2,
   "metadata": {
    "collapsed": false
   },
   "outputs": [
    {
     "name": "stdout",
     "output_type": "stream",
     "text": [
      "1.63931698182\n"
     ]
    }
   ],
   "source": [
    "def loadMovieLens(fileTrain, fileTest):\n",
    "    path='./recodata'\n",
    "    ratingsTrain = []\n",
    "    ratingsTest = []\n",
    "    links = []\n",
    "    users = set()\n",
    "    movies = set()\n",
    "    \n",
    "    for line in open(path+fileTrain):\n",
    "        (userId,movieId,rating,ts)=line.split('\\t')\n",
    "        ratingsTrain.append([userId, movieId, float(rating)])\n",
    "        users.add(userId)\n",
    "        movies.add(movieId)\n",
    "    \n",
    "    for line in open(path+'/u.links'):\n",
    "        l = line.split('\\t')\n",
    "        i = l[0]\n",
    "        if i in users:\n",
    "            for j in l[1:]:\n",
    "                if j in users:\n",
    "                    links.append([i, j, 1])\n",
    "    \n",
    "    for line in open(path+fileTest):\n",
    "        (userId,movieId,rating,ts)=line.split('\\t')\n",
    "        ratingsTest.append([userId, movieId, float(rating)])\n",
    "    \n",
    "    return ratingsTrain, ratingsTest, links\n",
    "\n",
    "ratingsTrain, ratingsTest, links = loadMovieLens(\"/u1.train\",\"/u1.test\")\n",
    "#print len(ratingsTrain) \n",
    "#print len(ratingsTest)\n",
    "#print len(links)\n",
    "u = np.random.randint(len(ratingsTrain)) \n",
    "user =   ratingsTrain[u][0]\n",
    "item =   ratingsTrain[u][1]\n",
    "rating = ratingsTrain[u][2]\n",
    "U = {}\n",
    "v = {}\n",
    "k = 5\n",
    "U[user] = np.random.rand(1,k)\n",
    "v[item] = np.random.rand(k,1)\n",
    "print (np.dot(U[user],v[item])[0][0])\n",
    "\n",
    "#expUV = np.exp(self.u[user].dot(self.v[item])[0][0])"
   ]
  },
  {
   "cell_type": "markdown",
   "metadata": {},
   "source": [
    "# Modèle SoREC"
   ]
  },
  {
   "cell_type": "code",
   "execution_count": 3,
   "metadata": {
    "collapsed": true
   },
   "outputs": [],
   "source": [
    "class SoRec(object):\n",
    "     def __init__(self, k, lambdaU=0.2, lambdaV=0.2, lambdaZ=0.2, eps=1e-5, tMax=1000):\n",
    "        self.lambdaU = lambdaU\n",
    "        self.lambdaV = lambdaV\n",
    "        self.lambdaZ = lambdaZ\n",
    "        self.k = k\n",
    "        self.eps = eps\n",
    "        self.tMax = tMax\n",
    "    \n",
    "     def fit(self, trainData, links):\n",
    "        self.u = {}\n",
    "        self.v = {}\n",
    "        self.z = {}\n",
    "        self.loss = []\n",
    "        nbLoss = 0\n",
    "\n",
    "        for t in range(self.tMax):\n",
    "            #print (t)\n",
    "            lossUV = 0\n",
    "            lossUZ = 0\n",
    "            for train in range(len(trainData)):\n",
    "                #Ratings\n",
    "                U = np.random.randint(len(trainData)) \n",
    "                user =   trainData[U][0]\n",
    "                item =   trainData[U][1]\n",
    "                Rij = trainData[U][2]\n",
    "                if user not in self.u:\n",
    "                    self.u[user] = np.random.rand(1,self.k)\n",
    "                if item not in self.v:\n",
    "                    self.v[item] = np.random.rand(self.k,1)\n",
    "                \n",
    "                self.u[user] = self.u[user] + self.eps * (Rij - (np.dot(self.u[user],self.v[item])[0][0])) * self.v[item].T\n",
    "                self.v[item] = self.v[item] + self.eps * (Rij - (np.dot(self.u[user],self.v[item])[0][0])) * self.u[user].T\n",
    "                lossUV += (Rij - (np.dot(self.u[user],self.v[item])[0][0]))**2 \n",
    "                #nbLoss += 1\n",
    "                #Links\n",
    "                l = np.random.randint(len(links))\n",
    "                personne = links[l][0]\n",
    "                ami = links[l][1]\n",
    "                confiance  = links[l][2]\n",
    "                if personne not in self.u:\n",
    "                    self.u[personne] = np.random.rand(1,self.k)\n",
    "                if ami not in self.z:\n",
    "                    self.z[ami] = np.random.rand(self.k,1)\n",
    "                    \n",
    "                self.u[personne] = self.u[personne] + self.eps  * (confiance - (np.dot(self.u[personne],self.z[ami])[0][0])) * self.z[ami].T\n",
    "                self.z[ami] = self.z[ami] + self.eps * (confiance - (np.dot(self.u[personne],self.z[ami])[0][0])) * self.u[personne].T\n",
    "                lossUZ += ((np.dot(self.u[personne],self.z[ami])[0][0]) - confiance)**2 \n",
    "                # Regularisation \n",
    "                ru = np.random.choice(list(self.u.keys()))\n",
    "                rv = np.random.choice(list(self.v.keys()))\n",
    "                rz = np.random.choice(list(self.z.keys()))\n",
    "                self.u[ru] = self.u[ru] * (1 + self.lambdaU * self.eps)\n",
    "                self.v[rv] = self.v[rv] * (1 + self.lambdaV * self.eps)\n",
    "                self.z[rz] = self.z[rz] * (1 + self.lambdaZ * self.eps)\n",
    "                #lossReg = lossReg + np.sqrt((self.u[ru]**2).sum()) + np.sqrt((self.v[rv]**2).sum()) + np.sqrt((self.z[rz]**2).sum())\n",
    "                \n",
    "            self.loss.append((lossUV+lossUZ)/(len(trainData)*1.0))\n",
    "            #print ((lossUV+lossUZ)/(len(trainData)*1.0))\n",
    "        return self.loss\n",
    "    \n",
    "     def predict(self, testData):\n",
    "        pred = []\n",
    "        indice = []\n",
    "        for ind,c in enumerate(testData):\n",
    "            if (c[0] in self.u) and (c[1] in self.v) :\n",
    "                pred.append(np.dot(self.u[c[0]], self.v[c[1]])[0][0])\n",
    "                indice.append(ind)\n",
    "        return pred, indice"
   ]
  },
  {
   "cell_type": "markdown",
   "metadata": {},
   "source": [
    "# Apprentissage et test en utilisant 'u1.train' et 'u1.test'"
   ]
  },
  {
   "cell_type": "code",
   "execution_count": 4,
   "metadata": {
    "collapsed": false
   },
   "outputs": [],
   "source": [
    "sr = SoRec(5, eps=1e-4, tMax=50)\n",
    "loss = sr.fit(ratingsTrain, links)"
   ]
  },
  {
   "cell_type": "code",
   "execution_count": 5,
   "metadata": {
    "collapsed": false
   },
   "outputs": [
    {
     "name": "stdout",
     "output_type": "stream",
     "text": [
      "('MSE : ', 1.4133416364311382)\n"
     ]
    }
   ],
   "source": [
    "prediction, indice = sr.predict(ratingsTest)\n",
    "mse = np.array((prediction - np.array(np.array(ratingsTest)[indice,2], float)) ** 2).mean()\n",
    "#((pred - np.array(np.array(ratings_test)[:,2], float)) ** 2).mean()\n",
    "print (\"MSE : \",(mse))"
   ]
  },
  {
   "cell_type": "code",
   "execution_count": 25,
   "metadata": {
    "collapsed": false
   },
   "outputs": [
    {
     "data": {
      "image/png": "[encoded data removed]",
      "text/plain": [
       "<matplotlib.figure.Figure at 0x7fa0de3bbef0>"
      ]
     },
     "metadata": {},
     "output_type": "display_data"
    }
   ],
   "source": [
    "plt.plot(loss)\n",
    "plt.title(' Social Recommendation Model')\n",
    "plt.xlabel('Number of Epochs')\n",
    "plt.ylabel('Loss')\n",
    "plt.grid()\n",
    "plt.show()"
   ]
  },
  {
   "cell_type": "code",
   "execution_count": null,
   "metadata": {
    "collapsed": true
   },
   "outputs": [],
   "source": []
  }
 ],
 "metadata": {
  "anaconda-cloud": {},
  "kernelspec": {
   "display_name": "Python 2",
   "language": "python",
   "name": "python2"
  },
  "language_info": {
   "codemirror_mode": {
    "name": "ipython",
    "version": 2
   },
   "file_extension": ".py",
   "mimetype": "text/x-python",
   "name": "python",
   "nbconvert_exporter": "python",
   "pygments_lexer": "ipython2",
   "version": "2.7.9"
  }
 },
 "nbformat": 4,
 "nbformat_minor": 1
}
