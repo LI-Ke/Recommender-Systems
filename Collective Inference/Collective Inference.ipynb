{
 "cells": [
  {
   "cell_type": "markdown",
   "metadata": {},
   "source": [
    "# TME2 - Inférence Collective"
   ]
  },
  {
   "cell_type": "code",
   "execution_count": 54,
   "metadata": {
    "collapsed": false
   },
   "outputs": [],
   "source": [
    "%matplotlib inline\n",
    "from collections import OrderedDict\n",
    "import numpy as np\n",
    "from sklearn.svm import LinearSVC\n",
    "import networkx as nx\n",
    "import matplotlib.pyplot as plt\n",
    "from copy import deepcopy"
   ]
  },
  {
   "cell_type": "markdown",
   "metadata": {},
   "source": [
    "## Chargement des données"
   ]
  },
  {
   "cell_type": "code",
   "execution_count": 55,
   "metadata": {
    "collapsed": true
   },
   "outputs": [],
   "source": [
    "def loadData(dir=\"WebKB/\", university=\"cornell\"):\n",
    "    content = OrderedDict()\n",
    "    labels = set()\n",
    "    for l in open(dir+\"content/\"+university+\".content\", \"r\"):\n",
    "        attributes = l.split('\\t')\n",
    "        label = attributes[-1][:-1]  # Enlever \\n\n",
    "        labels.add(label)\n",
    "        content[attributes[0]] = {}\n",
    "        content[attributes[0]]['attributs'] = attributes[1:-1]\n",
    "        content[attributes[0]]['label'] = label\n",
    "        content[attributes[0]]['successeurs'] = set()\n",
    "        content[attributes[0]]['predecesseurs'] = set()\n",
    "        content[attributes[0]]['voisins'] = set()\n",
    "        content[attributes[0]]['inconnu'] = False\n",
    "    for l in open(dir+\"cites/\"+university+\".cites\", \"r\"):\n",
    "        sites = l[:-1].split(' ')\n",
    "        content[sites[0]]['successeurs'].add(sites[1])\n",
    "        content[sites[1]]['predecesseurs'].add(sites[0])\n",
    "        content[sites[0]]['voisins'].add(sites[1])\n",
    "        content[sites[1]]['voisins'].add(sites[0])\n",
    "    return content, list(labels)"
   ]
  },
  {
   "cell_type": "code",
   "execution_count": 56,
   "metadata": {
    "collapsed": false
   },
   "outputs": [],
   "source": [
    "graph, classes = loadData()"
   ]
  },
  {
   "cell_type": "code",
   "execution_count": 57,
   "metadata": {
    "collapsed": false
   },
   "outputs": [
    {
     "name": "stdout",
     "output_type": "stream",
     "text": [
      "0 student\n",
      "1 faculty\n",
      "2 course\n",
      "3 project\n",
      "4 staff\n"
     ]
    }
   ],
   "source": [
    "for i,label in enumerate(classes):\n",
    "    print(i,label)"
   ]
  },
  {
   "cell_type": "code",
   "execution_count": 58,
   "metadata": {
    "collapsed": false
   },
   "outputs": [
    {
     "name": "stdout",
     "output_type": "stream",
     "text": [
      "['http://www.cs.cornell.edu/info/courses/current/cs401/home.html'\n",
      " 'http://www.cs.cornell.edu/info/courses/current/cs631/welcome.html'\n",
      " 'http://www.cs.cornell.edu/info/courses/fall-95/cs501/cs401-501.html'\n",
      " 'http://www.cs.cornell.edu/info/courses/spring-96/cs211/cs211.html'\n",
      " 'http://www.cs.cornell.edu/info/courses/spring-96/cs512/home.html'\n",
      " 'http://www.cs.cornell.edu/info/department/annual95/faculty/birman.html'\n",
      " 'http://www.cs.cornell.edu/info/people/chichao/chichao.html'\n",
      " 'http://www.cs.cornell.edu/info/people/ckliau/ckliau.html'\n",
      " 'http://www.cs.cornell.edu/info/people/crary/home.html'\n",
      " 'http://www.cs.cornell.edu/info/people/eva/eva.html'\n",
      " 'http://www.cs.cornell.edu/info/people/gbd/gbd.html'\n",
      " 'http://www.cs.cornell.edu/info/people/kguo/home.html'\n",
      " 'http://www.cs.cornell.edu/info/people/millett/home.html'\n",
      " 'http://www.cs.cornell.edu/info/people/ronitt/homepage.html'\n",
      " 'http://www.cs.cornell.edu/info/people/wwlee/wwlee.html'\n",
      " 'http://www.cs.cornell.edu/info/people/yanhong/cachet.html'\n",
      " 'http://www.cs.cornell.edu/info/people/ychung/ychung.html'\n",
      " 'http://www.cs.cornell.edu/info/projects/icap.html'\n",
      " 'http://www.tc.cornell.edu/visualization/education/cs417']\n"
     ]
    }
   ],
   "source": [
    "# Selection aleatoire des labels inconnus\n",
    "tauxInconnu = .10\n",
    "nbrInconnu = int(len(graph.keys()) * tauxInconnu)\n",
    "indicesAleatoires = np.random.permutation(len(graph.keys()))\n",
    "indiceInconnuOrdonee = np.sort(indicesAleatoires[:nbrInconnu])\n",
    "inconnus = np.array(list(graph.keys()))[indiceInconnuOrdonee]\n",
    "print (inconnus)"
   ]
  },
  {
   "cell_type": "markdown",
   "metadata": {},
   "source": [
    "## Classifieur local"
   ]
  },
  {
   "cell_type": "code",
   "execution_count": 59,
   "metadata": {
    "collapsed": true
   },
   "outputs": [],
   "source": [
    "#Extraction de features\n",
    "def pretraitement(graph, classes, inconnus):\n",
    "    nbrNodes = len(graph.keys())\n",
    "    nbrAtt = len(graph[list(graph.keys())[0]]['attributs'])\n",
    "    nbrClass = len(classes)\n",
    "    nbrInconnus = len(inconnus)\n",
    "    data = {}\n",
    "    data['inconnu'] = np.zeros((nbrInconnus, nbrAtt + nbrClass))\n",
    "    data['connu'] = np.zeros((nbrNodes - nbrInconnus, nbrAtt + nbrClass))\n",
    "    labels = {}\n",
    "    labels['inconnu'] = np.zeros(nbrInconnus)\n",
    "    labels['connu'] = np.zeros(nbrNodes - nbrInconnus)\n",
    "    i = {}\n",
    "    i['inconnu'] = 0\n",
    "    i['connu'] = 0\n",
    "    for node in graph:\n",
    "        if (node in inconnus):\n",
    "            k = 'inconnu'\n",
    "        else:\n",
    "            k = 'connu'\n",
    "        data[k][i[k],:nbrAtt] = graph[node]['attributs']\n",
    "        labels[k][i[k]] = classes.index(graph[node]['label'])\n",
    "        for s in graph[node]['successeurs']:\n",
    "            if (s not in inconnus):\n",
    "                indiceLabel = classes.index(graph[s]['label'])\n",
    "                data[k][i[k],nbrAtt + indiceLabel] += 1\n",
    "        i[k] += 1\n",
    "    return data, labels"
   ]
  },
  {
   "cell_type": "code",
   "execution_count": 60,
   "metadata": {
    "collapsed": false
   },
   "outputs": [
    {
     "name": "stdout",
     "output_type": "stream",
     "text": [
      "Le score du classifieur local: 0.842105263158\n"
     ]
    }
   ],
   "source": [
    "data, labels = pretraitement(graph, classes, inconnus)\n",
    "#print (data[\"inconnu\"])\n",
    "#print (labels[\"connu\"])\n",
    "\n",
    "classifierLocal = LinearSVC()\n",
    "classifierLocal.fit(data[\"connu\"], labels[\"connu\"])\n",
    "prediction = classifierLocal.predict(data[\"inconnu\"])\n",
    "print (\"Le score du classifieur local:\", (prediction == labels[\"inconnu\"]).mean())"
   ]
  },
  {
   "cell_type": "markdown",
   "metadata": {},
   "source": [
    "## ICA"
   ]
  },
  {
   "cell_type": "code",
   "execution_count": 61,
   "metadata": {
    "collapsed": true
   },
   "outputs": [],
   "source": [
    "class ICA(object):\n",
    "    def __init__(self, clfLocal, nbrIter=1000):\n",
    "        self.clfLocal = clfLocal\n",
    "        self.nbrIter = nbrIter\n",
    "    \n",
    "    def predict(self, graph, classes, inconnus):\n",
    "        data, labels = pretraitement(graph, classes, inconnus)\n",
    "        self.clfLocal.fit(data[\"connu\"], labels[\"connu\"])\n",
    "        a = self.clfLocal.predict(data[\"inconnu\"])\n",
    "        for i,u in enumerate(inconnus):  # initialisation avec bootstrapping\n",
    "            graph[u]['label'] = classes[int(a[i])]  \n",
    "        y = np.zeros(a.shape)\n",
    "        for k in range(self.nbrIter):\n",
    "            inconnuReordonne = np.random.permutation(len(inconnus)) # Reordonner les noeuds aleatoirement\n",
    "            for i in inconnuReordonne:\n",
    "                node = inconnus[i]\n",
    "                nbrAtt = len(graph[node]['attributs'])\n",
    "                nbrClass = len(classes)\n",
    "                feature = np.zeros(nbrAtt + nbrClass)\n",
    "                feature[:nbrAtt] = graph[node]['attributs']\n",
    "                for s in graph[node]['successeurs']:\n",
    "                    indiceLabel = classes.index(graph[s]['label'])\n",
    "                    feature[nbrAtt + indiceLabel] += 1\n",
    "                y[i] = self.clfLocal.predict(np.array([feature])) # Prediction de ce noeud\n",
    "                graph[node]['label'] = classes[int(y[i])]\n",
    "            if ((a == y).mean() == 1):\n",
    "                break\n",
    "            a = deepcopy(y)  # Mise a jour de vecteur a\n",
    "        \n",
    "        return a, labels\n",
    "        "
   ]
  },
  {
   "cell_type": "code",
   "execution_count": 63,
   "metadata": {
    "collapsed": false
   },
   "outputs": [
    {
     "name": "stdout",
     "output_type": "stream",
     "text": [
      "Le score de l'ICA :  0.842105263158\n"
     ]
    }
   ],
   "source": [
    "graphe = deepcopy(graph)\n",
    "ica = ICA(LinearSVC())\n",
    "y, label= ica.predict(graphe, classes, inconnus)\n",
    "print (\"Le score de l'ICA : \", (y == label['inconnu']).mean())"
   ]
  },
  {
   "cell_type": "markdown",
   "metadata": {},
   "source": [
    "## Propagation de labels\n",
    "### [Denoyer & Gallinari, 2010]:"
   ]
  },
  {
   "cell_type": "code",
   "execution_count": 64,
   "metadata": {
    "collapsed": true
   },
   "outputs": [],
   "source": [
    "class propagationLabel():\n",
    "    def __init__(self, beta=1e-2, lambd=1e-2, eps=1e-4, nbrIter=100):\n",
    "        self.beta  = beta\n",
    "        self.lambd = lambd\n",
    "        self.eps = eps\n",
    "        self.nbrIter = nbrIter\n",
    "    \n",
    "    def predict(self, graph, classes, inconnus):\n",
    "        connu = list(set(graph.keys()).difference(set(inconnus)))\n",
    "        nbrAtt = len(graph[list(graph.keys())[0]]['attributs'])\n",
    "        nbrClass = len(classes)\n",
    "        self.loss = []\n",
    "        self.theta = np.random.random((nbrClass, nbrAtt))\n",
    "\n",
    "        for i in range(self.nbrIter):\n",
    "            lossHL = np.zeros(nbrClass)\n",
    "            lossConnect = np.zeros(nbrClass)\n",
    "            lossRegu = np.zeros(nbrClass)\n",
    "            connuReordonne = np.random.permutation(connu)\n",
    "            for node in connuReordonne:\n",
    "                yneg = np.ones((nbrClass))\n",
    "                 \n",
    "                xi = np.array(graph[node]['attributs'], float)\n",
    "                gradHL = yneg.reshape(5,1) * xi.reshape((1,len(xi))) # gradient de Hinge Loss  (- y * x)\n",
    "                produitHL = yneg * (np.dot(xi,self.theta.T))\n",
    "                gradHL[produitHL <= 1] = 0\n",
    "                produitHL = 1 + produitHL   # 1 - y * X * theta\n",
    "                produitHL[produitHL < 0] = 0  # max(0, 1 - y * X * theta)\n",
    "                lossHL = lossHL + produitHL        \n",
    "                \n",
    "                gradConnect = np.zeros(self.theta.shape)\n",
    "                for j in (graph[node]['successeurs']):\n",
    "                    xj = np.array(graph[j]['attributs'], float)\n",
    "                    diff = xi - xj\n",
    "                    produitConnect = np.dot(diff, self.theta.T)\n",
    "                    gradConnect = gradConnect + 2 * self.beta * produitConnect.reshape(nbrClass,1) * diff.reshape((1,len(diff))).repeat(nbrClass, axis=0)\n",
    "                    # gradient des scores entre deux noeuds connectes \n",
    "                    lossConnect = lossConnect + self.beta * (produitConnect**2)\n",
    "                    \n",
    "                gradRegu = 2 * self.lambd / len(connu) * self.theta  # gradient de la regulatisation\n",
    "                lossRegu = lossRegu + self.lambd / len(connu) * (self.theta**2).sum(1)\n",
    "                \n",
    "                self.theta = self.theta - self.eps * (gradHL + gradConnect + gradRegu)\n",
    "            \n",
    "            self.loss.append(np.array([lossHL+lossConnect+lossRegu]).mean())\n",
    "        \n",
    "        target = np.zeros(len(inconnus))\n",
    "        for i,node in enumerate(inconnus):\n",
    "            target[i] = np.dot(np.array(graph[node]['attributs'], float), self.theta.T).argmax()\n",
    "        return target"
   ]
  },
  {
   "cell_type": "code",
   "execution_count": 65,
   "metadata": {
    "collapsed": false
   },
   "outputs": [
    {
     "name": "stdout",
     "output_type": "stream",
     "text": [
      "Le score de propagation de labels: 0.631578947368\n"
     ]
    }
   ],
   "source": [
    "graphe2 = deepcopy(graph)\n",
    "pl = propagationLabel(beta=0.001, lambd=0.001, eps=0.001, nbrIter=100)\n",
    "predPro = pl.predict(graphe2, classes, inconnus) \n",
    "print (\"Le score de propagation de labels:\", (predPro == label['inconnu']).mean())"
   ]
  },
  {
   "cell_type": "code",
   "execution_count": 66,
   "metadata": {
    "collapsed": false
   },
   "outputs": [
    {
     "data": {
      "image/png": "[encoded data removed]",
      "text/plain": [
       "<matplotlib.figure.Figure at 0x7f12ca2849b0>"
      ]
     },
     "metadata": {},
     "output_type": "display_data"
    }
   ],
   "source": [
    "plt.plot(pl.loss)\n",
    "plt.title(' Label Propagation Model')\n",
    "plt.xlabel('Number of Epochs')\n",
    "plt.ylabel('Loss')\n",
    "plt.grid()\n",
    "plt.show()"
   ]
  },
  {
   "cell_type": "code",
   "execution_count": null,
   "metadata": {
    "collapsed": true
   },
   "outputs": [],
   "source": []
  }
 ],
 "metadata": {
  "anaconda-cloud": {},
  "kernelspec": {
   "display_name": "Python 2",
   "language": "python",
   "name": "python2"
  },
  "language_info": {
   "codemirror_mode": {
    "name": "ipython",
    "version": 2
   },
   "file_extension": ".py",
   "mimetype": "text/x-python",
   "name": "python",
   "nbconvert_exporter": "python",
   "pygments_lexer": "ipython2",
   "version": "2.7.9"
  }
 },
 "nbformat": 4,
 "nbformat_minor": 1
}
