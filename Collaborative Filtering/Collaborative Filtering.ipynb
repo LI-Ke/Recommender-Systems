{
 "cells": [
  {
   "cell_type": "markdown",
   "metadata": {},
   "source": [
    "# Recommendation"
   ]
  },
  {
   "cell_type": "code",
   "execution_count": 6,
   "metadata": {
    "collapsed": false
   },
   "outputs": [],
   "source": [
    "%matplotlib inline\n",
    "import matplotlib.pyplot as plt\n",
    "import numpy as np\n",
    "import random\n",
    "\n",
    "from sklearn import cross_validation\n",
    "from sklearn import cross_validation as cv\n",
    "from sklearn.metrics import mean_squared_error\n",
    "from math import sqrt\n",
    "\n",
    "import scipy.sparse as sp\n",
    "from scipy.sparse.linalg import svds"
   ]
  },
  {
   "cell_type": "markdown",
   "metadata": {},
   "source": [
    "# Recharge de données MovieLens"
   ]
  },
  {
   "cell_type": "code",
   "execution_count": 7,
   "metadata": {
    "collapsed": false
   },
   "outputs": [
    {
     "name": "stdout",
     "output_type": "stream",
     "text": [
      "Le tableau de rang : \n",
      "[[ 5.  3.  4. ...,  0.  0.  0.]\n",
      " [ 4.  0.  0. ...,  0.  0.  0.]\n",
      " [ 0.  0.  0. ...,  0.  0.  0.]\n",
      " ..., \n",
      " [ 5.  0.  0. ...,  0.  0.  0.]\n",
      " [ 0.  0.  0. ...,  0.  0.  0.]\n",
      " [ 0.  5.  0. ...,  0.  0.  0.]]\n"
     ]
    }
   ],
   "source": [
    "def loadMovieLens(path='data/movielens'):\n",
    "    # Get movie titles\n",
    "    movies={}\n",
    "    for line in open(path+'/u.item', encoding = \"ISO-8859-1\"):\n",
    "        (id,title)=line.split('|')[0:2]\n",
    "        movies[id]=title\n",
    "    \n",
    "    # Load data\n",
    "    prefs={}\n",
    "    for line in open(path+'/u.data'):\n",
    "        (user,movieid,rating,ts)=line.split('\\t')\n",
    "        prefs.setdefault(user,{})\n",
    "        prefs[user][movies[movieid]]=float(rating)\n",
    "    return prefs\n",
    "\n",
    "#perfs = loadMovieLens()\n",
    "#print (perfs)\n",
    "## {user_id :{'item_name': rating, 'item_name': rating}, user_id:{.....} }\n",
    "\n",
    "#La fonction Root Mean Squared Error\n",
    "def rmse(prediction, X):\n",
    "    prediction = prediction[X.nonzero()].flatten() \n",
    "    X = X[X.nonzero()].flatten()\n",
    "    return sqrt(mean_squared_error(prediction, X))\n",
    "\n",
    "\n",
    "path='data/movielens'\n",
    "info = open(path+'/u.info')\n",
    "n_users = info.readline().split(' ')[0]\n",
    "n_items = info.readline().split(' ')[0]\n",
    "n_ratings = info.readline().split(' ')[0]\n",
    "#n_users = 943\n",
    "#n_items = 1682\n",
    "nbr_users = int(n_users)\n",
    "nbr_items = int(n_items)\n",
    "#Construction du tableau de rang\n",
    "Ratings = np.zeros((nbr_users,nbr_items))\n",
    "#le format de <<u.data>> user id | item id | rating | timestamp  \n",
    "for line in open(path+'/u.data'):\n",
    "    (idUser, idItem, rating, ts) = line.split('\\t')\n",
    "    Ratings[int(idUser)-1][int(idItem)-1]=rating\n",
    "print (\"Le tableau de rang : \")\n",
    "print (Ratings)"
   ]
  },
  {
   "cell_type": "markdown",
   "metadata": {},
   "source": [
    "# Filtrage Collaborative"
   ]
  },
  {
   "cell_type": "markdown",
   "metadata": {},
   "source": [
    "# Version SVD"
   ]
  },
  {
   "cell_type": "code",
   "execution_count": 8,
   "metadata": {
    "collapsed": false
   },
   "outputs": [
    {
     "name": "stdout",
     "output_type": "stream",
     "text": [
      "Le tableau de rang prédit en utilisant SVD : \n",
      "[[  5.15012418e+00   3.32596365e+00   2.27546531e+00 ...,   1.12141930e-02\n",
      "    4.68706196e-02   1.66252615e-01]\n",
      " [  2.51764483e+00  -1.78511514e-01   3.62505477e-01 ...,   6.73320692e-03\n",
      "    2.31610984e-02  -1.61138977e-02]\n",
      " [ -1.36174623e-01  -1.81604302e-01  -3.80998920e-01 ...,   3.58328220e-02\n",
      "   -3.03948135e-03  -2.21448805e-02]\n",
      " ..., \n",
      " [  3.82177376e+00  -7.39747114e-02   5.09624261e-01 ...,  -4.43019730e-03\n",
      "    1.03651790e-03   6.69348223e-04]\n",
      " [  5.65701243e-01   1.85356603e-01   2.42039901e-01 ...,  -3.68256003e-03\n",
      "    2.51845386e-02  -8.85770664e-04]\n",
      " [  8.51223552e-01   3.37549384e+00   2.37912208e+00 ...,  -3.20881529e-03\n",
      "    3.80934440e-02   3.24869610e-02]]\n"
     ]
    }
   ],
   "source": [
    "#Calcule le en \n",
    "listsNbrSingular = []\n",
    "for i in range(1,100):\n",
    "    u, s, vt = svds(Ratings, k = i)\n",
    "    s_diag_matrix=np.diag(s)\n",
    "    X_pred = np.dot(np.dot(u, s_diag_matrix), vt)\n",
    "    listsNbrSingular.append(rmse(X_pred, Ratings))\n",
    "\n",
    "print (\"Le tableau de rang prédit en utilisant SVD : \")\n",
    "print (X_pred)"
   ]
  },
  {
   "cell_type": "code",
   "execution_count": 9,
   "metadata": {
    "collapsed": false
   },
   "outputs": [
    {
     "data": {
      "image/png": "[encoded data removed]",
      "text/plain": [
       "<matplotlib.figure.Figure at 0x7f148879b850>"
      ]
     },
     "metadata": {},
     "output_type": "display_data"
    }
   ],
   "source": [
    "plt.plot(range(len(listsNbrSingular)), listsNbrSingular, marker='.')\n",
    "plt.title(' Matrix factorization by SVD')\n",
    "plt.xlabel('Number of hidden features')\n",
    "plt.ylabel('RMSE')\n",
    "plt.legend()\n",
    "plt.grid()\n",
    "plt.show()"
   ]
  },
  {
   "cell_type": "markdown",
   "metadata": {},
   "source": [
    "# Version Modèle Classique L2"
   ]
  },
  {
   "cell_type": "code",
   "execution_count": 10,
   "metadata": {
    "collapsed": true
   },
   "outputs": [],
   "source": [
    "plt.close()\n",
    "K = 5\n",
    "P, s, Q = svds(Ratings, K)"
   ]
  },
  {
   "cell_type": "code",
   "execution_count": 11,
   "metadata": {
    "collapsed": false
   },
   "outputs": [
    {
     "name": "stdout",
     "output_type": "stream",
     "text": [
      "Le tableau de rang prédit en utilisant le Modèle Classique L2 : \n",
      "[[ 4.07449428  3.22448487  2.86868543 ...,  1.20239981  2.52344596\n",
      "   2.64298097]\n",
      " [ 4.31238037  3.31769426  2.19600737 ...,  1.05469551  2.68888383\n",
      "   2.55472346]\n",
      " [ 3.06611589  2.69351441  2.88167436 ...,  1.03372753  1.76368669\n",
      "   1.95738416]\n",
      " ..., \n",
      " [ 4.31327521  3.54733776  3.05136846 ...,  1.46747472  2.47850258\n",
      "   2.6591285 ]\n",
      " [ 4.51039904  3.73676126  2.18218786 ...,  1.00995467  2.61456407\n",
      "   2.13707011]\n",
      " [ 3.77470761  3.4848214   3.96678344 ...,  1.54434252  1.97984835\n",
      "   2.19947412]]\n"
     ]
    }
   ],
   "source": [
    "ErreursClassique = []\n",
    "def modele_classique_L2(R, P, Q, K, steps=100, alpha=0.005, lamda=0.02):\n",
    "    for step in range(steps):\n",
    "        for i in range(len(R)):\n",
    "            for j in range(len(R[i])):\n",
    "                if R[i][j] > 0:\n",
    "                    #descente de gradient stochastique\n",
    "                    eij = R[i][j] - np.dot(P[i,:],Q[:,j])\n",
    "                    for k in range(K):\n",
    "                        P[i][k] = P[i][k] + alpha * ( eij * Q[k][j] - lamda * P[i][k] ) \n",
    "                        Q[k][j] = Q[k][j] + alpha * ( eij * P[i][k] - lamda * Q[k][j] )\n",
    "        eR = np.dot(P,Q)\n",
    "        e = rmse(eR, R)\n",
    "        ErreursClassique.append(e)\n",
    "    return P, Q, eR\n",
    "\n",
    "nP, nQ, nR= modele_classique_L2(Ratings, P, Q, K)\n",
    "print (\"Le tableau de rang prédit en utilisant le Modèle Classique L2 : \")\n",
    "print (nR)"
   ]
  },
  {
   "cell_type": "markdown",
   "metadata": {
    "collapsed": true
   },
   "source": [
    "# Version Modèle avec biais utilisateur et items"
   ]
  },
  {
   "cell_type": "code",
   "execution_count": 12,
   "metadata": {
    "collapsed": false
   },
   "outputs": [
    {
     "name": "stdout",
     "output_type": "stream",
     "text": [
      "[[ 3.70682479  3.05975667  2.94266228 ...,  1.45215007  2.72400796\n",
      "   2.87189217]\n",
      " [ 3.83521208  3.29372122  2.86491436 ...,  1.62991067  2.77581532\n",
      "   2.72268816]\n",
      " [ 3.28945118  2.70883956  2.44378589 ...,  1.01372624  2.31606067\n",
      "   2.35784784]\n",
      " ..., \n",
      " [ 4.19828939  3.5767617   3.23292559 ...,  1.82157176  3.01696038\n",
      "   3.12156598]\n",
      " [ 4.37801097  3.95007803  3.02780321 ...,  2.18121278  2.69748885\n",
      "   2.66161276]\n",
      " [ 3.78051424  3.12045549  3.52257809 ...,  1.82165819  2.06953843\n",
      "   2.67919719]]\n"
     ]
    },
    {
     "data": {
      "image/png": "[encoded data removed]",
      "text/plain": [
       "<matplotlib.figure.Figure at 0x7f14b0132950>"
      ]
     },
     "metadata": {},
     "output_type": "display_data"
    }
   ],
   "source": [
    "ErreursBiais = []\n",
    "def modele_biais_users_items(R, P, Q, K, steps=50, alpha=0.005, lamda=0.02):\n",
    "    miu = R.sum()/float(n_ratings)\n",
    "    eR = np.zeros((nbr_users,nbr_items))\n",
    "    bu=[]\n",
    "    for i in range(nbr_users):\n",
    "        bu.append(R[i].sum()/(len(R[i].nonzero()[0])*1.0) - miu)\n",
    "    bit=[]\n",
    "    for j in range(nbr_items):\n",
    "        bit.append(R[:,j].sum()/(len(R[:,j].nonzero()[0])*1.0) - miu)\n",
    "    for step in range(steps):\n",
    "        for i in range(len(R)):\n",
    "            bi = bu[i]\n",
    "            for j in range(len(R[i])):\n",
    "                bj = bit[j]\n",
    "                if R[i][j] > 0:\n",
    "                    #descente de gradient stochastique\n",
    "                    eij = R[i][j] - (miu + bi + bj + np.dot(P[i,:],Q[:,j]))\n",
    "                    bi = bi + alpha * (eij - lamda * bi)\n",
    "                    bj = bj + alpha * (eij - lamda * bj)\n",
    "                    miu = miu + alpha * (eij - lamda * miu)\n",
    "                    for k in range(K):\n",
    "                        P[i][k] = P[i][k] + alpha * ( eij * Q[k][j] - lamda * P[i][k])\n",
    "                        Q[k][j] = Q[k][j] + alpha * ( eij * P[i][k] - lamda * Q[k][j])\n",
    "                eR[i][j] = miu + bi + bj + np.dot(P[i,:],Q[:,j]) \n",
    "        e = rmse(eR, R)\n",
    "        ErreursBiais.append(e)\n",
    "    return P, Q, eR\n",
    "\n",
    "P = np.random.rand(nbr_users,K)\n",
    "Q = np.random.rand(K,nbr_items)\n",
    "nP, nQ, nR= modele_biais_users_items(Ratings, P, Q, K)\n",
    "print (nR)\n",
    "\n",
    "plt.plot(range(len(ErreursClassique)), ErreursClassique, marker='.', label='Modele classique')\n",
    "plt.plot(range(len(ErreursBiais)), ErreursBiais, marker='.', label='Biais users et items')\n",
    "plt.title(' Matrix factorization')\n",
    "plt.xlabel('Number of Epochs')\n",
    "plt.ylabel('RMSE')\n",
    "plt.legend()\n",
    "plt.grid()\n",
    "plt.show()\n"
   ]
  },
  {
   "cell_type": "code",
   "execution_count": null,
   "metadata": {
    "collapsed": true
   },
   "outputs": [],
   "source": []
  }
 ],
 "metadata": {
  "anaconda-cloud": {},
  "kernelspec": {
   "display_name": "Python 2",
   "language": "python",
   "name": "python2"
  },
  "language_info": {
   "codemirror_mode": {
    "name": "ipython",
    "version": 2
   },
   "file_extension": ".py",
   "mimetype": "text/x-python",
   "name": "python",
   "nbconvert_exporter": "python",
   "pygments_lexer": "ipython2",
   "version": "2.7.9"
  }
 },
 "nbformat": 4,
 "nbformat_minor": 1
}
