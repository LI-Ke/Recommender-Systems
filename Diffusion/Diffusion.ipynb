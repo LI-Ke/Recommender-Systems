{
 "cells": [
  {
   "cell_type": "markdown",
   "metadata": {},
   "source": [
    "# Diffusion"
   ]
  },
  {
   "cell_type": "code",
   "execution_count": 2,
   "metadata": {
    "collapsed": false
   },
   "outputs": [],
   "source": [
    "#%pylab inline\n",
    "import random\n",
    "import pickle as pkl\n",
    "import numpy as np"
   ]
  },
  {
   "cell_type": "markdown",
   "metadata": {},
   "source": [
    "## Chargement des données"
   ]
  },
  {
   "cell_type": "code",
   "execution_count": 3,
   "metadata": {
    "collapsed": true
   },
   "outputs": [],
   "source": [
    "def load_file (path='') :\n",
    "    # Lecture du fichier contenant les épisodes\n",
    "    monFichier = open (path, 'r')\n",
    "    data = monFichier.readlines()\n",
    "    data = np.array(data)\n",
    "    monFichier.close()\n",
    "\n",
    "    return data"
   ]
  },
  {
   "cell_type": "code",
   "execution_count": 4,
   "metadata": {
    "collapsed": false
   },
   "outputs": [],
   "source": [
    "def build_graphe (data) :\n",
    "    #Initialisation du graphe\n",
    "    graphe = {} #graphe\n",
    "    graphe['s'] = {} #successeurs\n",
    "    graphe['p'] = {} #predecesseurs\n",
    "    users = {}\n",
    "    preds = {}\n",
    "    relations = []\n",
    "    \n",
    "    # Chaque ligne est un épisode\n",
    "    for l in data :\n",
    "        episode = l.replace('\\r\\n', '')\n",
    "        episode = l.split(';')\n",
    "        cascade = []\n",
    "        \n",
    "        #On recupère les infections d'un episode. Chaque couple user:time est une infection\n",
    "        for infect in episode :\n",
    "         \n",
    "            splited_infect = infect.split(':')\n",
    "            \n",
    "            #non_vide\n",
    "            if (len(splited_infect) == 2) :\n",
    "                #On sépare l'utilisateur et le temps\n",
    "                user = int(splited_infect[0])\n",
    "                time = float(splited_infect[1])\n",
    "                users[user] = 1\n",
    "                #print user\n",
    "                # l'utilisateur n'existe pas encore dans la liste de predecesseurs\n",
    "                if (not graphe['p'].has_key(user)) :\n",
    "                    graphe['p'][user] = []\n",
    "                \n",
    "                if (len(cascade) > 0) :\n",
    "                    i = np.array(cascade)[:,0]\n",
    "                    # l'utilisateur n'existe pas encore dans la liste de successeurs\n",
    "                    for infected_user in i :\n",
    "                        #print infected_user\n",
    "                        if (not graphe['s'].has_key(int(infected_user))) :\n",
    "                            graphe['s'][int(infected_user)] = []\n",
    "                        graphe['p'][user].append(infected_user)\n",
    "                        graphe['s'][int(infected_user)].append(int(user))\n",
    "                        graphe['p'][user] = list(set(graphe['p'][user]))\n",
    "                        graphe['s'][int(infected_user)] =list(set(graphe['s'][int(infected_user)]))\n",
    "                        \n",
    "                cascade.append(np.array([user, time]))\n",
    "        cascade = np.array(cascade).reshape(len(cascade), 2)\n",
    "        \n",
    "        for u in cascade[:,0] :\n",
    "            if (not u in preds) :\n",
    "                preds[u] = {}\n",
    "            i = np.where(cascade[:,0] == u)[0]\n",
    "            pred = np.where(cascade[:,1] < cascade[i, 1])[0]\n",
    "            if pred.shape[0] > 0:\n",
    "                pred = cascade[pred,0]\n",
    "                preds[u][len(relations)] = pred\n",
    "            else:\n",
    "                preds[u][len(relations)] = []\n",
    "\n",
    "        relations.append(cascade)\n",
    "        \n",
    "    return relations, graphe, users, preds\n"
   ]
  },
  {
   "cell_type": "code",
   "execution_count": 5,
   "metadata": {
    "collapsed": true
   },
   "outputs": [],
   "source": [
    "def getD (data, graphe, path = '', dataset = 'train') :\n",
    "        \n",
    "        D = {}\n",
    "        # D+ = { cascade | {u, v} € cascade, Tv = Tu+1}\n",
    "        # D- = { cascade | u € cascade OR {u, v} € cascade, Tv > Tu+1}\n",
    "        \n",
    "        for noeud in graphe['s'].keys() :\n",
    "            \n",
    "            # S'il n'existe pas encore dans D\n",
    "            if (not D.has_key(noeud)):\n",
    "                D[noeud] = {}\n",
    "                \n",
    "            for successeur in graphe['s'][noeud] :\n",
    "                # Si D ne contient pas les ensembles pour u et v\n",
    "                if (not D[noeud].has_key(successeur)):\n",
    "                    D[noeud][successeur] = getDuv(noeud, successeur, data)\n",
    "                    \n",
    "        monFichier = open(path + dataset, 'w')\n",
    "        pkl.dump (D, monFichier)\n",
    "        monFichier.close()\n",
    "        \n",
    "        return D"
   ]
  },
  {
   "cell_type": "code",
   "execution_count": 6,
   "metadata": {
    "collapsed": true
   },
   "outputs": [],
   "source": [
    "def getDuv (noeud, successeur, data) :\n",
    "    \n",
    "        Dplus = []\n",
    "        Dmoins = []\n",
    "        \n",
    "        for i, d in enumerate(data) :\n",
    "            u = np.where(d[:,0] == noeud)\n",
    "            v = np.where(d[:,0] == successeur)\n",
    "            if u[0].size > 0 and v[0].size > 0:\n",
    "                if d[u[0][0],1] < d[v[0][0],1]:\n",
    "                    Dplus.append(i)\n",
    "            if u[0].size > 0:\n",
    "                if (v[0].size > 0 and d[u[0][0], 1] >= d[v[0][0], 1]) or v[0].size == 0:\n",
    "                    Dmoins.append(i)\n",
    "        r = {}\n",
    "        r['plus'] = Dplus\n",
    "        r['minus'] = Dmoins\n",
    "        return r"
   ]
  },
  {
   "cell_type": "code",
   "execution_count": null,
   "metadata": {
    "collapsed": true
   },
   "outputs": [],
   "source": [
    "data = load_file('cascades_train.txt')\n",
    "train, graphe_train, users_train, preds_train = np.array (build_graphe (data))\n",
    "#print graphe_train\n",
    "#print (users_train)"
   ]
  },
  {
   "cell_type": "code",
   "execution_count": 28,
   "metadata": {
    "collapsed": false
   },
   "outputs": [
    {
     "name": "stdout",
     "output_type": "stream",
     "text": [
      "5000\n",
      "5000\n"
     ]
    }
   ],
   "source": [
    "data = load_file('cascades_test.txt')\n",
    "test, graphe_test, users_test, preds_test = np.array (build_graphe (data))"
   ]
  },
  {
   "cell_type": "markdown",
   "metadata": {},
   "source": [
    "## Modèle Independent Cascades"
   ]
  },
  {
   "cell_type": "code",
   "execution_count": null,
   "metadata": {
    "collapsed": true
   },
   "outputs": [],
   "source": [
    "infection_init = 0.1\n",
    "likelihood = 1e-4\n",
    "likelihoods = []\n",
    "\n",
    "\"\"\"\n",
    "# Apprentissage\n",
    "while (len(likelihoods) < 2) :\n",
    "    i = 0\n",
    "    for noeud in graphe_train['s'].keys():\n",
    "        for s in graphe['s'][noeud]:\n",
    "            p[noeud][s] = d_likelihood_process(noeud, s)\n",
    "            # Calcul de la vraissemblance\n",
    "            res = 0\n",
    "            D_bis = D[noeud][s]['p']\n",
    "            for d in D_bis :\n",
    "                noeud = int(noeud)\n",
    "                key = str(int(noeud))+\"__\"\n",
    "                \n",
    "                \n",
    "                \n",
    "\n",
    "\n",
    "            r = numerator / (len(self.D[node][successor]['plus']) + len (self.D[node][successor]['minus']))\n",
    "        i = i + 1\n",
    "    t = t + 1\n",
    "\n",
    "    likelihoods.append(likelihood_process(data))\n",
    "    print str(self.t) + ' => likelihood : ' + str (self.likelihood[-1])\n",
    "    \n",
    "\"\"\""
   ]
  }
 ],
 "metadata": {
  "anaconda-cloud": {},
  "kernelspec": {
   "display_name": "Python [default]",
   "language": "python",
   "name": "python3"
  },
  "language_info": {
   "codemirror_mode": {
    "name": "ipython",
    "version": 3
   },
   "file_extension": ".py",
   "mimetype": "text/x-python",
   "name": "python",
   "nbconvert_exporter": "python",
   "pygments_lexer": "ipython3",
   "version": "3.5.2"
  }
 },
 "nbformat": 4,
 "nbformat_minor": 1
}
